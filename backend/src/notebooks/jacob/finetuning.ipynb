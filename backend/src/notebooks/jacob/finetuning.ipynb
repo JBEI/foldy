{
 "cells": [
  {
   "cell_type": "code",
   "execution_count": 11,
   "metadata": {},
   "outputs": [],
   "source": [
    "import pandas as pd\n",
    "import numpy as np\n",
    "import matplotlib.pyplot as plt\n",
    "import seaborn as sns\n",
    "import torch\n",
    "import torch.nn as nn\n",
    "import logging\n"
   ]
  },
  {
   "cell_type": "code",
   "execution_count": 12,
   "metadata": {},
   "outputs": [
    {
     "name": "stdout",
     "output_type": "stream",
     "text": [
      "The autoreload extension is already loaded. To reload it, use:\n",
      "  %reload_ext autoreload\n"
     ]
    }
   ],
   "source": [
    "%matplotlib inline\n",
    "%config InlineBackend.figure_format = 'retina'\n",
    "%load_ext autoreload\n",
    "%autoreload 2\n",
    "\n",
    "from app.helpers.finetuning.training import train_per_protein, score_sequences\n",
    "from app.helpers.sequence_util import (\n",
    "    get_seq_ids_for_deep_mutational_scan,\n",
    "    seq_id_to_seq,\n",
    "    maybe_get_seq_id_error_message,\n",
    "    process_and_validate_evolve_input_files,\n",
    ")\n"
   ]
  },
  {
   "cell_type": "code",
   "execution_count": 13,
   "metadata": {},
   "outputs": [],
   "source": [
    "import re\n",
    "\n",
    "cas_wt_aa_seq = 'MIKVYRYEIVKPLDLDWKEFGTILRQLQQETRFALNKATQLAWEWMGFSSDYKDNHGEYPKSKDILGYTNVHGYAYHTIKTKAYRLNSGNLSQTIKRATDRFKAYQKEILRGDMSIPSYKRDIPLDLIKENISVNRMNHGDYIASLSLLSNPAKQEMNVKRKISVIIIVRGAGKTIMDRILSGEYQVSASQIIHDDRKNKWYLNISYDFEPQTRVLDLNKIMGIDLGVAVAVYMAFQHTPARYKLEGGEIENFRRQVESRRISMLRQGKYAGGARGGHGRDKRIKPIEQLRDKIANFRDTTNHRYSRYIVDMAIKEGCGTIQMEDLTNIRDIGSRFLQNWTYYDLQQKIIYKAEEAGIKVIKIDPQYTSQRCSECGNIDSGNRIGQAIFKCRACGYEANADYNAARNIAIPNIDKIIAESIK'\n",
    "\n",
    "cas_activity = pd.read_excel('notebooks/data/DMS_AsCas12f_preprocessed.xlsx')\n",
    "cas_activity = cas_activity.rename(columns={'variant': 'seq_id', 'avg_activity': 'activity'})[['seq_id', 'activity']]\n",
    "\n",
    "\n",
    "tem1_wt_aa_seq = ''.join(\"\"\"MSIQHFRVALIPFFAAFCLPVFAHPETLVKVKDAEDQLGARVGYIELDLNSGKILESFRP\n",
    "EERFPMMSTFKVLLCGAVLSRVDAGQEQLGRRIHYSQNDLVEYSPVTEKHLTDGMTVREL\n",
    "CSAAITMSDNTAANLLLTTIGGPKELTAFLHNMGDHVTRLDRWEPELNEAIPNDERDTTM\n",
    "PAAMATTLRKLLTGELLTLASRQQLIDWMEADKVAGPLLRSALPAGWFIADKSGAGERGS\n",
    "RGIIAALGPDGKPSRIVVIYTTGSQATMDERNRQIAEIGASLIKHW\"\"\".split('\\n'))\n",
    "\n",
    "tem1_activity = pd.read_excel('notebooks/data/tem1_activity.xlsx', sheet_name='simplified')\n",
    "tem1_activity = tem1_activity.rename(columns={'Mutation': 'seq_id', 'activity_at_2500': 'activity'})[['seq_id', 'activity']]\n",
    "def fix_tem1_seq_id(seq_id):\n",
    "  m = re.match(r'([A-Z])(\\d+)(.*)', seq_id)\n",
    "  assert m, seq_id\n",
    "  old_id = m.groups()[0]\n",
    "  locus = int(m.groups()[1])\n",
    "  new_id = m.groups()[2]\n",
    "\n",
    "  new_locus = locus - 2\n",
    "  \n",
    "  if new_locus >= 245:\n",
    "    new_locus = new_locus - 2\n",
    "\n",
    "  return f'{old_id}{new_locus}{new_id}'\n",
    "tem1_activity['seq_id'] = tem1_activity.seq_id.apply(fix_tem1_seq_id)\n"
   ]
  },
  {
   "cell_type": "code",
   "execution_count": 14,
   "metadata": {},
   "outputs": [],
   "source": [
    "# wt_aa_seq = tem1_wt_aa_seq\n",
    "# raw_activity_df = tem1_activity.copy()\n",
    "wt_aa_seq = cas_wt_aa_seq\n",
    "raw_activity_df = cas_activity.copy()"
   ]
  },
  {
   "cell_type": "code",
   "execution_count": 16,
   "metadata": {},
   "outputs": [],
   "source": [
    "pg_df = pd.read_csv('notebooks/data/DMS_substitutions.csv')\n",
    "import numpy as np\n",
    "# set numpy random key.\n",
    "np.random.seed(42)\n",
    "\n",
    "\n",
    "def get_training_pairs_for_dms(dms_id, dms_fname, dms_target_seq, num_examples):\n",
    "  dms_df = pd.read_csv(f'notebooks/data/DMS_ProteinGym_substitutions/{dms_fname}')\n",
    "  dms_df = dms_df.sort_values('DMS_score', ascending=False).reset_index(drop=True)\n",
    "\n",
    "  training_pairs = []\n",
    "  for ii in range(num_examples):\n",
    "    # Randomly select one of the top 10% mutants.\n",
    "    # Then randomly select another mutant at least 10% lower on the list.\n",
    "    example_w_idx = np.random.randint(0, int(len(dms_df) * 0.1))\n",
    "    example_l_idx = np.random.randint(example_w_idx + int(len(dms_df) * 0.1), len(dms_df))\n",
    "    example_w = dms_df.iloc[example_w_idx]\n",
    "    example_l = dms_df.iloc[example_l_idx]\n",
    "\n",
    "    # if get_loci_set(example_w.mutant) == get_loci_set(example_l.mutant):\n",
    "    #   print(f'Skipping a duplicate locus set {example_w.mutant} and {example_l.mutant}')\n",
    "    #   continue\n",
    "\n",
    "    training_pairs.append(pd.DataFrame({\n",
    "      'dms_id': [dms_id],\n",
    "      'sequence': [dms_target_seq],\n",
    "      'seq_id_w': [example_w.mutant],\n",
    "      'seq_id_l': [example_l.mutant],\n",
    "      'rank_w': [example_w_idx],\n",
    "      'rank_l': [example_l_idx],\n",
    "      'DMS_score_w': [example_w.DMS_score],\n",
    "      'DMS_score_l': [example_l.DMS_score],\n",
    "    }))\n",
    "  return pd.concat(training_pairs)\n"
   ]
  },
  {
   "cell_type": "code",
   "execution_count": 17,
   "metadata": {},
   "outputs": [],
   "source": [
    "train_df = get_training_pairs_for_dms(\n",
    "  pg_df.iloc[0].DMS_id,\n",
    "  pg_df.iloc[0].DMS_filename,\n",
    "  pg_df.iloc[0].target_seq,\n",
    "  2\n",
    ")\n",
    "train_df = pd.concat([train_df] * 5)"
   ]
  },
  {
   "cell_type": "code",
   "execution_count": 18,
   "metadata": {},
   "outputs": [
    {
     "name": "stderr",
     "output_type": "stream",
     "text": [
      "2025-03-03 00:35:58,112 - root - INFO - Loading model from facebook/esm2_t6_8M_UR50D\n",
      "/opt/conda/envs/worker/lib/python3.12/site-packages/huggingface_hub/file_download.py:797: FutureWarning: `resume_download` is deprecated and will be removed in version 1.0.0. Downloads always resume when possible. If you want to force a new download, use `force_download=True`.\n",
      "  warnings.warn(\n",
      "2025-03-03 00:35:58,449 - root - INFO - Creating training arguments\n",
      "2025-03-03 00:35:58,542 - root - INFO - Creating trainer\n",
      "2025-03-03 00:35:58,546 - root - INFO - Training model\n"
     ]
    },
    {
     "data": {
      "text/html": [
       "\n",
       "    <div>\n",
       "      \n",
       "      <progress value='20' max='20' style='width:300px; height:20px; vertical-align: middle;'></progress>\n",
       "      [20/20 11:10, Epoch 10/10]\n",
       "    </div>\n",
       "    <table border=\"1\" class=\"dataframe\">\n",
       "  <thead>\n",
       " <tr style=\"text-align: left;\">\n",
       "      <th>Step</th>\n",
       "      <th>Training Loss</th>\n",
       "      <th>Validation Loss</th>\n",
       "      <th>Spearmanr</th>\n",
       "    </tr>\n",
       "  </thead>\n",
       "  <tbody>\n",
       "    <tr>\n",
       "      <td>2</td>\n",
       "      <td>0.579700</td>\n",
       "      <td>0.483345</td>\n",
       "      <td>1.000000</td>\n",
       "    </tr>\n",
       "    <tr>\n",
       "      <td>4</td>\n",
       "      <td>0.477200</td>\n",
       "      <td>0.346859</td>\n",
       "      <td>1.000000</td>\n",
       "    </tr>\n",
       "    <tr>\n",
       "      <td>6</td>\n",
       "      <td>0.278000</td>\n",
       "      <td>0.158172</td>\n",
       "      <td>1.000000</td>\n",
       "    </tr>\n",
       "    <tr>\n",
       "      <td>8</td>\n",
       "      <td>0.083000</td>\n",
       "      <td>0.039611</td>\n",
       "      <td>-1.000000</td>\n",
       "    </tr>\n",
       "    <tr>\n",
       "      <td>10</td>\n",
       "      <td>0.031500</td>\n",
       "      <td>0.011136</td>\n",
       "      <td>-1.000000</td>\n",
       "    </tr>\n",
       "    <tr>\n",
       "      <td>12</td>\n",
       "      <td>0.005900</td>\n",
       "      <td>0.002068</td>\n",
       "      <td>-1.000000</td>\n",
       "    </tr>\n",
       "    <tr>\n",
       "      <td>14</td>\n",
       "      <td>0.000700</td>\n",
       "      <td>0.000327</td>\n",
       "      <td>1.000000</td>\n",
       "    </tr>\n",
       "    <tr>\n",
       "      <td>16</td>\n",
       "      <td>0.000100</td>\n",
       "      <td>0.000079</td>\n",
       "      <td>1.000000</td>\n",
       "    </tr>\n",
       "    <tr>\n",
       "      <td>18</td>\n",
       "      <td>0.000000</td>\n",
       "      <td>0.000031</td>\n",
       "      <td>1.000000</td>\n",
       "    </tr>\n",
       "    <tr>\n",
       "      <td>20</td>\n",
       "      <td>0.000000</td>\n",
       "      <td>0.000014</td>\n",
       "      <td>1.000000</td>\n",
       "    </tr>\n",
       "  </tbody>\n",
       "</table><p>"
      ],
      "text/plain": [
       "<IPython.core.display.HTML object>"
      ]
     },
     "metadata": {},
     "output_type": "display_data"
    },
    {
     "name": "stderr",
     "output_type": "stream",
     "text": [
      "2025-03-03 00:36:18,779 - root - INFO - Step 1: loss=0.4475, learning_rate=0.0000, epoch=0.5000\n",
      "2025-03-03 00:36:37,431 - root - INFO - Step 2: loss=0.5797, learning_rate=0.0000, epoch=1.0000\n",
      "2025-03-03 00:36:59,507 - root - INFO - Step 2: eval_loss=0.4833, eval_spearmanr=1.0000, eval_runtime=22.0730, eval_samples_per_second=0.4530, eval_steps_per_second=0.0910, epoch=1.0000\n",
      "2025-03-03 00:36:59,508 - root - INFO - Evaluation at step 2: eval_loss=0.4833, eval_spearmanr=1.0000, eval_runtime=22.0730, eval_samples_per_second=0.4530, eval_steps_per_second=0.0910, epoch=1.0000\n",
      "2025-03-03 00:37:18,435 - root - INFO - Step 3: loss=0.4224, learning_rate=0.0000, epoch=1.5000\n",
      "2025-03-03 00:37:37,026 - root - INFO - Step 4: loss=0.4772, learning_rate=0.0000, epoch=2.0000\n",
      "2025-03-03 00:37:59,298 - root - INFO - Step 4: eval_loss=0.3469, eval_spearmanr=1.0000, eval_runtime=22.2702, eval_samples_per_second=0.4490, eval_steps_per_second=0.0900, epoch=2.0000\n",
      "2025-03-03 00:37:59,298 - root - INFO - Evaluation at step 4: eval_loss=0.3469, eval_spearmanr=1.0000, eval_runtime=22.2702, eval_samples_per_second=0.4490, eval_steps_per_second=0.0900, epoch=2.0000\n",
      "2025-03-03 00:38:18,125 - root - INFO - Step 5: loss=0.3085, learning_rate=0.0000, epoch=2.5000\n",
      "2025-03-03 00:38:36,885 - root - INFO - Step 6: loss=0.2780, learning_rate=0.0000, epoch=3.0000\n",
      "2025-03-03 00:38:59,198 - root - INFO - Step 6: eval_loss=0.1582, eval_spearmanr=1.0000, eval_runtime=22.3108, eval_samples_per_second=0.4480, eval_steps_per_second=0.0900, epoch=3.0000\n",
      "2025-03-03 00:38:59,198 - root - INFO - Evaluation at step 6: eval_loss=0.1582, eval_spearmanr=1.0000, eval_runtime=22.3108, eval_samples_per_second=0.4480, eval_steps_per_second=0.0900, epoch=3.0000\n",
      "2025-03-03 00:39:17,923 - root - INFO - Step 7: loss=0.1304, learning_rate=0.0000, epoch=3.5000\n",
      "2025-03-03 00:39:36,877 - root - INFO - Step 8: loss=0.0830, learning_rate=0.0000, epoch=4.0000\n",
      "2025-03-03 00:39:59,188 - root - INFO - Step 8: eval_loss=0.0396, eval_spearmanr=-1.0000, eval_runtime=22.3092, eval_samples_per_second=0.4480, eval_steps_per_second=0.0900, epoch=4.0000\n",
      "2025-03-03 00:39:59,189 - root - INFO - Evaluation at step 8: eval_loss=0.0396, eval_spearmanr=-1.0000, eval_runtime=22.3092, eval_samples_per_second=0.4480, eval_steps_per_second=0.0900, epoch=4.0000\n",
      "2025-03-03 00:40:19,384 - root - INFO - Step 9: loss=0.0290, learning_rate=0.0000, epoch=4.5000\n",
      "2025-03-03 00:40:41,789 - root - INFO - Step 10: loss=0.0315, learning_rate=0.0000, epoch=5.0000\n",
      "2025-03-03 00:41:09,710 - root - INFO - Step 10: eval_loss=0.0111, eval_spearmanr=-1.0000, eval_runtime=27.9158, eval_samples_per_second=0.3580, eval_steps_per_second=0.0720, epoch=5.0000\n",
      "2025-03-03 00:41:09,719 - root - INFO - Evaluation at step 10: eval_loss=0.0111, eval_spearmanr=-1.0000, eval_runtime=27.9158, eval_samples_per_second=0.3580, eval_steps_per_second=0.0720, epoch=5.0000\n",
      "2025-03-03 00:41:31,796 - root - INFO - Step 11: loss=0.0093, learning_rate=0.0000, epoch=5.5000\n",
      "2025-03-03 00:41:51,566 - root - INFO - Step 12: loss=0.0059, learning_rate=0.0000, epoch=6.0000\n",
      "2025-03-03 00:42:14,447 - root - INFO - Step 12: eval_loss=0.0021, eval_spearmanr=-1.0000, eval_runtime=22.8782, eval_samples_per_second=0.4370, eval_steps_per_second=0.0870, epoch=6.0000\n",
      "2025-03-03 00:42:14,448 - root - INFO - Evaluation at step 12: eval_loss=0.0021, eval_spearmanr=-1.0000, eval_runtime=22.8782, eval_samples_per_second=0.4370, eval_steps_per_second=0.0870, epoch=6.0000\n",
      "2025-03-03 00:42:33,859 - root - INFO - Step 13: loss=0.0024, learning_rate=0.0000, epoch=6.5000\n",
      "2025-03-03 00:42:54,004 - root - INFO - Step 14: loss=0.0007, learning_rate=0.0000, epoch=7.0000\n",
      "2025-03-03 00:43:17,131 - root - INFO - Step 14: eval_loss=0.0003, eval_spearmanr=1.0000, eval_runtime=23.1253, eval_samples_per_second=0.4320, eval_steps_per_second=0.0860, epoch=7.0000\n",
      "2025-03-03 00:43:17,132 - root - INFO - Evaluation at step 14: eval_loss=0.0003, eval_spearmanr=1.0000, eval_runtime=23.1253, eval_samples_per_second=0.4320, eval_steps_per_second=0.0860, epoch=7.0000\n",
      "2025-03-03 00:43:37,028 - root - INFO - Step 15: loss=0.0004, learning_rate=0.0000, epoch=7.5000\n",
      "2025-03-03 00:44:00,854 - root - INFO - Step 16: loss=0.0001, learning_rate=0.0000, epoch=8.0000\n",
      "2025-03-03 00:44:34,135 - root - INFO - Step 16: eval_loss=0.0001, eval_spearmanr=1.0000, eval_runtime=33.2687, eval_samples_per_second=0.3010, eval_steps_per_second=0.0600, epoch=8.0000\n",
      "2025-03-03 00:44:34,138 - root - INFO - Evaluation at step 16: eval_loss=0.0001, eval_spearmanr=1.0000, eval_runtime=33.2687, eval_samples_per_second=0.3010, eval_steps_per_second=0.0600, epoch=8.0000\n",
      "2025-03-03 00:45:20,269 - root - INFO - Step 17: loss=0.0001, learning_rate=0.0000, epoch=8.5000\n",
      "2025-03-03 00:45:50,507 - root - INFO - Step 18: loss=0.0000, learning_rate=0.0000, epoch=9.0000\n",
      "2025-03-03 00:46:13,741 - root - INFO - Step 18: eval_loss=0.0000, eval_spearmanr=1.0000, eval_runtime=23.2296, eval_samples_per_second=0.4300, eval_steps_per_second=0.0860, epoch=9.0000\n",
      "2025-03-03 00:46:13,741 - root - INFO - Evaluation at step 18: eval_loss=0.0000, eval_spearmanr=1.0000, eval_runtime=23.2296, eval_samples_per_second=0.4300, eval_steps_per_second=0.0860, epoch=9.0000\n",
      "2025-03-03 00:46:33,419 - root - INFO - Step 19: loss=0.0000, learning_rate=0.0000, epoch=9.5000\n",
      "2025-03-03 00:46:55,268 - root - INFO - Step 20: loss=0.0000, learning_rate=0.0000, epoch=10.0000\n",
      "2025-03-03 00:47:29,194 - root - INFO - Step 20: eval_loss=0.0000, eval_spearmanr=1.0000, eval_runtime=33.9224, eval_samples_per_second=0.2950, eval_steps_per_second=0.0590, epoch=10.0000\n",
      "2025-03-03 00:47:29,196 - root - INFO - Evaluation at step 20: eval_loss=0.0000, eval_spearmanr=1.0000, eval_runtime=33.9224, eval_samples_per_second=0.2950, eval_steps_per_second=0.0590, epoch=10.0000\n",
      "2025-03-03 00:47:29,202 - root - INFO - Step 20: train_runtime=690.4974, train_samples_per_second=0.1450, train_steps_per_second=0.0290, total_flos=4609175961600.0000, train_loss=0.1403, epoch=10.0000\n",
      "2025-03-03 00:47:29,210 - root - INFO - Training complete\n"
     ]
    }
   ],
   "source": [
    "NUM_EPOCHS = 10\n",
    "\n",
    "# Configure logging to display in Jupyter\n",
    "logging.basicConfig(\n",
    "    level=logging.INFO,\n",
    "    format='%(asctime)s - %(name)s - %(levelname)s - %(message)s',\n",
    "    force=True  # Override any existing configuration\n",
    ")\n",
    "\n",
    "gpu_available = False\n",
    "tokenizer2, model2, history2 = train_per_protein(\n",
    "    checkpoint=\"facebook/esm2_t6_8M_UR50D\",\n",
    "    train_df=train_df,\n",
    "    valid_df=train_df,\n",
    "    device='cpu',\n",
    "    loss='dpo',\n",
    "    train_batch_size=5,\n",
    "    grad_accum_steps=1,\n",
    "    val_batch_size=5,\n",
    "    epochs=NUM_EPOCHS,\n",
    "    learning_rate=3e-4,\n",
    "    seed=42,\n",
    "    mixed_precision=gpu_available,\n",
    "    train_full=True,\n",
    ")"
   ]
  },
  {
   "cell_type": "code",
   "execution_count": 9,
   "metadata": {},
   "outputs": [
    {
     "name": "stdout",
     "output_type": "stream",
     "text": [
      "Scoring 100 sequences\n"
     ]
    },
    {
     "ename": "NameError",
     "evalue": "name 'model2' is not defined",
     "output_type": "error",
     "traceback": [
      "\u001b[0;31m---------------------------------------------------------------------------\u001b[0m",
      "\u001b[0;31mNameError\u001b[0m                                 Traceback (most recent call last)",
      "Cell \u001b[0;32mIn[9], line 5\u001b[0m\n\u001b[1;32m      2\u001b[0m dms_seq_ids \u001b[38;5;241m=\u001b[39m dms_seq_ids[:\u001b[38;5;241m100\u001b[39m]\n\u001b[1;32m      3\u001b[0m \u001b[38;5;28mprint\u001b[39m(\u001b[38;5;124mf\u001b[39m\u001b[38;5;124m\"\u001b[39m\u001b[38;5;124mScoring \u001b[39m\u001b[38;5;132;01m{\u001b[39;00m\u001b[38;5;28mlen\u001b[39m(dms_seq_ids)\u001b[38;5;132;01m}\u001b[39;00m\u001b[38;5;124m sequences\u001b[39m\u001b[38;5;124m\"\u001b[39m, flush\u001b[38;5;241m=\u001b[39m\u001b[38;5;28;01mTrue\u001b[39;00m)\n\u001b[0;32m----> 5\u001b[0m scores_df \u001b[38;5;241m=\u001b[39m score_sequences(\u001b[43mmodel2\u001b[49m, tokenizer2, wt_aa_seq, dms_seq_ids)\n",
      "\u001b[0;31mNameError\u001b[0m: name 'model2' is not defined"
     ]
    }
   ],
   "source": [
    "dms_seq_ids = get_seq_ids_for_deep_mutational_scan(wt_aa_seq, ['WT'], [])\n",
    "dms_seq_ids = dms_seq_ids[:100]\n",
    "print(f\"Scoring {len(dms_seq_ids)} sequences\", flush=True)\n",
    "\n",
    "scores_df = score_sequences(model2, tokenizer2, wt_aa_seq, dms_seq_ids)\n"
   ]
  },
  {
   "cell_type": "code",
   "execution_count": 10,
   "metadata": {},
   "outputs": [],
   "source": [
    "# Randomly sample 16, 64, 256 rows of cas_activity and save to excel\n",
    "from pathlib import Path\n",
    "Path('notebooks/data/cas_activity').mkdir(parents=True, exist_ok=True)\n",
    "cas_activity.sample(n=16).to_excel('notebooks/data/cas_activity/cas_activity_16.xlsx', index=False)\n",
    "cas_activity.sample(n=64).to_excel('notebooks/data/cas_activity/cas_activity_64.xlsx', index=False)\n",
    "cas_activity.sample(n=256).to_excel('notebooks/data/cas_activity/cas_activity_256.xlsx', index=False)\n"
   ]
  },
  {
   "cell_type": "code",
   "execution_count": 13,
   "metadata": {},
   "outputs": [
    {
     "data": {
      "text/plain": [
       "SignificanceResult(statistic=0.10474405319766142, pvalue=0.3046862456357439)"
      ]
     },
     "execution_count": 13,
     "metadata": {},
     "output_type": "execute_result"
    }
   ],
   "source": [
    "from scipy.stats import spearmanr\n",
    "df = pd.merge(scores_df, raw_activity_df, on='seq_id')\n",
    "spearmanr(df.wt_marginal_score, df.activity)"
   ]
  }
 ],
 "metadata": {
  "kernelspec": {
   "display_name": "Python 3 (ipykernel)",
   "language": "python",
   "name": "python3"
  },
  "language_info": {
   "codemirror_mode": {
    "name": "ipython",
    "version": 3
   },
   "file_extension": ".py",
   "mimetype": "text/x-python",
   "name": "python",
   "nbconvert_exporter": "python",
   "pygments_lexer": "ipython3",
   "version": "3.12.9"
  }
 },
 "nbformat": 4,
 "nbformat_minor": 2
}
